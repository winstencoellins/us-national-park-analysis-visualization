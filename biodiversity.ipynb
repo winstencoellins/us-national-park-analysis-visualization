{
 "cells": [
  {
   "cell_type": "markdown",
   "metadata": {},
   "source": [
    "# Biodiversity in National Parks in United States Analysis"
   ]
  },
  {
   "cell_type": "code",
   "execution_count": 1,
   "metadata": {},
   "outputs": [],
   "source": [
    "# by: Winsten Coellins\n",
    "# source of data: codecademy"
   ]
  },
  {
   "cell_type": "code",
   "execution_count": 2,
   "metadata": {},
   "outputs": [],
   "source": [
    "# Questions of interest:\n",
    "# 1. What are the species categories presented in the National Park?\n",
    "# 2. What are the distribution of each categories in the National Park?\n",
    "# 3. What are the type of the conservation status?\n",
    "# 4. What are the distribution of each type of conservation status?\n",
    "# 5. What animals are in a specific conservation status? Are they threatened, species of concern, endangered,\n",
    "# or in recovery?\n",
    "# 6. Are certain type of species more likely to be endangered?\n",
    "# 7. What are each category's conservation status distribution?\n",
    "# 8. How many National Parks are there? What are the name of the park?\n",
    "# 9. Which species were spotted the most at each National Park?"
   ]
  },
  {
   "cell_type": "code",
   "execution_count": 3,
   "metadata": {},
   "outputs": [],
   "source": [
    "import pandas as pd\n",
    "from matplotlib import pyplot as plt\n",
    "import sqlite3\n",
    "\n",
    "%matplotlib inline"
   ]
  },
  {
   "cell_type": "code",
   "execution_count": 4,
   "metadata": {},
   "outputs": [],
   "source": [
    "observations = pd.read_csv(\"observations.csv\")\n",
    "species = pd.read_csv(\"species_info.csv\")"
   ]
  },
  {
   "cell_type": "code",
   "execution_count": 5,
   "metadata": {},
   "outputs": [
    {
     "name": "stdout",
     "output_type": "stream",
     "text": [
      "23296\n"
     ]
    },
    {
     "data": {
      "text/html": [
       "<div>\n",
       "<style scoped>\n",
       "    .dataframe tbody tr th:only-of-type {\n",
       "        vertical-align: middle;\n",
       "    }\n",
       "\n",
       "    .dataframe tbody tr th {\n",
       "        vertical-align: top;\n",
       "    }\n",
       "\n",
       "    .dataframe thead th {\n",
       "        text-align: right;\n",
       "    }\n",
       "</style>\n",
       "<table border=\"1\" class=\"dataframe\">\n",
       "  <thead>\n",
       "    <tr style=\"text-align: right;\">\n",
       "      <th></th>\n",
       "      <th>scientific_name</th>\n",
       "      <th>park_name</th>\n",
       "      <th>observations</th>\n",
       "    </tr>\n",
       "  </thead>\n",
       "  <tbody>\n",
       "    <tr>\n",
       "      <th>0</th>\n",
       "      <td>Vicia benghalensis</td>\n",
       "      <td>Great Smoky Mountains National Park</td>\n",
       "      <td>68</td>\n",
       "    </tr>\n",
       "    <tr>\n",
       "      <th>1</th>\n",
       "      <td>Neovison vison</td>\n",
       "      <td>Great Smoky Mountains National Park</td>\n",
       "      <td>77</td>\n",
       "    </tr>\n",
       "    <tr>\n",
       "      <th>2</th>\n",
       "      <td>Prunus subcordata</td>\n",
       "      <td>Yosemite National Park</td>\n",
       "      <td>138</td>\n",
       "    </tr>\n",
       "    <tr>\n",
       "      <th>3</th>\n",
       "      <td>Abutilon theophrasti</td>\n",
       "      <td>Bryce National Park</td>\n",
       "      <td>84</td>\n",
       "    </tr>\n",
       "    <tr>\n",
       "      <th>4</th>\n",
       "      <td>Githopsis specularioides</td>\n",
       "      <td>Great Smoky Mountains National Park</td>\n",
       "      <td>85</td>\n",
       "    </tr>\n",
       "  </tbody>\n",
       "</table>\n",
       "</div>"
      ],
      "text/plain": [
       "            scientific_name                            park_name  observations\n",
       "0        Vicia benghalensis  Great Smoky Mountains National Park            68\n",
       "1            Neovison vison  Great Smoky Mountains National Park            77\n",
       "2         Prunus subcordata               Yosemite National Park           138\n",
       "3      Abutilon theophrasti                  Bryce National Park            84\n",
       "4  Githopsis specularioides  Great Smoky Mountains National Park            85"
      ]
     },
     "execution_count": 5,
     "metadata": {},
     "output_type": "execute_result"
    }
   ],
   "source": [
    "# Displaying observations data\n",
    "print(len(observations))\n",
    "observations.head()"
   ]
  },
  {
   "cell_type": "code",
   "execution_count": 6,
   "metadata": {},
   "outputs": [
    {
     "name": "stdout",
     "output_type": "stream",
     "text": [
      "5824\n"
     ]
    },
    {
     "data": {
      "text/html": [
       "<div>\n",
       "<style scoped>\n",
       "    .dataframe tbody tr th:only-of-type {\n",
       "        vertical-align: middle;\n",
       "    }\n",
       "\n",
       "    .dataframe tbody tr th {\n",
       "        vertical-align: top;\n",
       "    }\n",
       "\n",
       "    .dataframe thead th {\n",
       "        text-align: right;\n",
       "    }\n",
       "</style>\n",
       "<table border=\"1\" class=\"dataframe\">\n",
       "  <thead>\n",
       "    <tr style=\"text-align: right;\">\n",
       "      <th></th>\n",
       "      <th>category</th>\n",
       "      <th>scientific_name</th>\n",
       "      <th>common_names</th>\n",
       "      <th>conservation_status</th>\n",
       "    </tr>\n",
       "  </thead>\n",
       "  <tbody>\n",
       "    <tr>\n",
       "      <th>0</th>\n",
       "      <td>Mammal</td>\n",
       "      <td>Clethrionomys gapperi gapperi</td>\n",
       "      <td>Gapper's Red-Backed Vole</td>\n",
       "      <td>NaN</td>\n",
       "    </tr>\n",
       "    <tr>\n",
       "      <th>1</th>\n",
       "      <td>Mammal</td>\n",
       "      <td>Bos bison</td>\n",
       "      <td>American Bison, Bison</td>\n",
       "      <td>NaN</td>\n",
       "    </tr>\n",
       "    <tr>\n",
       "      <th>2</th>\n",
       "      <td>Mammal</td>\n",
       "      <td>Bos taurus</td>\n",
       "      <td>Aurochs, Aurochs, Domestic Cattle (Feral), Dom...</td>\n",
       "      <td>NaN</td>\n",
       "    </tr>\n",
       "    <tr>\n",
       "      <th>3</th>\n",
       "      <td>Mammal</td>\n",
       "      <td>Ovis aries</td>\n",
       "      <td>Domestic Sheep, Mouflon, Red Sheep, Sheep (Feral)</td>\n",
       "      <td>NaN</td>\n",
       "    </tr>\n",
       "    <tr>\n",
       "      <th>4</th>\n",
       "      <td>Mammal</td>\n",
       "      <td>Cervus elaphus</td>\n",
       "      <td>Wapiti Or Elk</td>\n",
       "      <td>NaN</td>\n",
       "    </tr>\n",
       "  </tbody>\n",
       "</table>\n",
       "</div>"
      ],
      "text/plain": [
       "  category                scientific_name  \\\n",
       "0   Mammal  Clethrionomys gapperi gapperi   \n",
       "1   Mammal                      Bos bison   \n",
       "2   Mammal                     Bos taurus   \n",
       "3   Mammal                     Ovis aries   \n",
       "4   Mammal                 Cervus elaphus   \n",
       "\n",
       "                                        common_names conservation_status  \n",
       "0                           Gapper's Red-Backed Vole                 NaN  \n",
       "1                              American Bison, Bison                 NaN  \n",
       "2  Aurochs, Aurochs, Domestic Cattle (Feral), Dom...                 NaN  \n",
       "3  Domestic Sheep, Mouflon, Red Sheep, Sheep (Feral)                 NaN  \n",
       "4                                      Wapiti Or Elk                 NaN  "
      ]
     },
     "execution_count": 6,
     "metadata": {},
     "output_type": "execute_result"
    }
   ],
   "source": [
    "# Displaying species_info data\n",
    "print(len(species))\n",
    "species.head()"
   ]
  },
  {
   "cell_type": "code",
   "execution_count": 7,
   "metadata": {},
   "outputs": [],
   "source": [
    "# Establishing connection with Databases\n",
    "conn1 = sqlite3.connect(\"observations.db\")\n",
    "observations.to_sql(\"observations\", conn1, if_exists=\"replace\", index=False)\n",
    "\n",
    "conn2 = sqlite3.connect(\"species_info.db\")\n",
    "species.to_sql(\"species_info\", conn2, if_exists=\"replace\", index=False)"
   ]
  },
  {
   "cell_type": "code",
   "execution_count": 8,
   "metadata": {},
   "outputs": [
    {
     "name": "stdout",
     "output_type": "stream",
     "text": [
      "['Mammal', 'Bird', 'Reptile', 'Amphibian', 'Fish', 'Vascular Plant', 'Nonvascular Plant']\n"
     ]
    }
   ],
   "source": [
    "# Distinct category in species_info.csv\n",
    "def find_distinct_category():\n",
    "    category = []\n",
    "\n",
    "    for c in species['category']:\n",
    "        if(c not in category):\n",
    "            category.append(c)\n",
    "\n",
    "    return category\n",
    "\n",
    "c = find_distinct_category()\n",
    "print(c)"
   ]
  },
  {
   "cell_type": "code",
   "execution_count": 9,
   "metadata": {},
   "outputs": [
    {
     "data": {
      "text/html": [
       "<div>\n",
       "<style scoped>\n",
       "    .dataframe tbody tr th:only-of-type {\n",
       "        vertical-align: middle;\n",
       "    }\n",
       "\n",
       "    .dataframe tbody tr th {\n",
       "        vertical-align: top;\n",
       "    }\n",
       "\n",
       "    .dataframe thead th {\n",
       "        text-align: right;\n",
       "    }\n",
       "</style>\n",
       "<table border=\"1\" class=\"dataframe\">\n",
       "  <thead>\n",
       "    <tr style=\"text-align: right;\">\n",
       "      <th></th>\n",
       "      <th>Category</th>\n",
       "      <th>Counts</th>\n",
       "    </tr>\n",
       "  </thead>\n",
       "  <tbody>\n",
       "    <tr>\n",
       "      <th>0</th>\n",
       "      <td>Vascular Plant</td>\n",
       "      <td>4470</td>\n",
       "    </tr>\n",
       "    <tr>\n",
       "      <th>1</th>\n",
       "      <td>Bird</td>\n",
       "      <td>521</td>\n",
       "    </tr>\n",
       "    <tr>\n",
       "      <th>2</th>\n",
       "      <td>Nonvascular Plant</td>\n",
       "      <td>333</td>\n",
       "    </tr>\n",
       "    <tr>\n",
       "      <th>3</th>\n",
       "      <td>Mammal</td>\n",
       "      <td>214</td>\n",
       "    </tr>\n",
       "    <tr>\n",
       "      <th>4</th>\n",
       "      <td>Fish</td>\n",
       "      <td>127</td>\n",
       "    </tr>\n",
       "    <tr>\n",
       "      <th>5</th>\n",
       "      <td>Amphibian</td>\n",
       "      <td>80</td>\n",
       "    </tr>\n",
       "    <tr>\n",
       "      <th>6</th>\n",
       "      <td>Reptile</td>\n",
       "      <td>79</td>\n",
       "    </tr>\n",
       "  </tbody>\n",
       "</table>\n",
       "</div>"
      ],
      "text/plain": [
       "            Category  Counts\n",
       "0     Vascular Plant    4470\n",
       "1               Bird     521\n",
       "2  Nonvascular Plant     333\n",
       "3             Mammal     214\n",
       "4               Fish     127\n",
       "5          Amphibian      80\n",
       "6            Reptile      79"
      ]
     },
     "execution_count": 9,
     "metadata": {},
     "output_type": "execute_result"
    }
   ],
   "source": [
    "# Getting the distribution of each category in a Data Frame using query\n",
    "query = \"\"\"\n",
    "SELECT category AS `Category`, COUNT(category) AS `Counts`\n",
    "FROM species_info\n",
    "GROUP BY 1\n",
    "ORDER BY 2 DESC\n",
    "\"\"\"\n",
    "\n",
    "df1 = pd.read_sql(query, conn2)\n",
    "df1"
   ]
  },
  {
   "cell_type": "code",
   "execution_count": 10,
   "metadata": {},
   "outputs": [
    {
     "data": {
      "image/png": "[encoded data removed]",
      "text/plain": [
       "<Figure size 432x288 with 1 Axes>"
      ]
     },
     "metadata": {
      "needs_background": "light"
     },
     "output_type": "display_data"
    }
   ],
   "source": [
    "# Plotting category distribution to graph\n",
    "x = df1['Category']\n",
    "y = df1['Counts']\n",
    "\n",
    "plt.bar(x, y, color=['red', 'orange', 'yellow', 'green', 'blue', 'violet', 'purple'])\n",
    "plt.xticks(rotation=90)\n",
    "plt.xlabel(\"Category\", fontsize=14)\n",
    "plt.ylabel(\"Counts\", fontsize=14)\n",
    "plt.show()"
   ]
  },
  {
   "cell_type": "code",
   "execution_count": 11,
   "metadata": {},
   "outputs": [
    {
     "name": "stdout",
     "output_type": "stream",
     "text": [
      "[nan, 'Species of Concern', 'Endangered', 'Threatened', 'In Recovery']\n"
     ]
    }
   ],
   "source": [
    "# Types of conservation_status\n",
    "conserv_list = []\n",
    "\n",
    "for danger in species['conservation_status']:\n",
    "    if(danger not in conserv_list):\n",
    "        conserv_list.append(danger)\n",
    "        \n",
    "print(conserv_list)"
   ]
  },
  {
   "cell_type": "code",
   "execution_count": 12,
   "metadata": {},
   "outputs": [
    {
     "data": {
      "text/html": [
       "<div>\n",
       "<style scoped>\n",
       "    .dataframe tbody tr th:only-of-type {\n",
       "        vertical-align: middle;\n",
       "    }\n",
       "\n",
       "    .dataframe tbody tr th {\n",
       "        vertical-align: top;\n",
       "    }\n",
       "\n",
       "    .dataframe thead th {\n",
       "        text-align: right;\n",
       "    }\n",
       "</style>\n",
       "<table border=\"1\" class=\"dataframe\">\n",
       "  <thead>\n",
       "    <tr style=\"text-align: right;\">\n",
       "      <th></th>\n",
       "      <th>Conservation Status</th>\n",
       "      <th>Counts</th>\n",
       "    </tr>\n",
       "  </thead>\n",
       "  <tbody>\n",
       "    <tr>\n",
       "      <th>0</th>\n",
       "      <td>Species of Concern</td>\n",
       "      <td>161</td>\n",
       "    </tr>\n",
       "    <tr>\n",
       "      <th>1</th>\n",
       "      <td>Endangered</td>\n",
       "      <td>16</td>\n",
       "    </tr>\n",
       "    <tr>\n",
       "      <th>2</th>\n",
       "      <td>Threatened</td>\n",
       "      <td>10</td>\n",
       "    </tr>\n",
       "    <tr>\n",
       "      <th>3</th>\n",
       "      <td>In Recovery</td>\n",
       "      <td>4</td>\n",
       "    </tr>\n",
       "  </tbody>\n",
       "</table>\n",
       "</div>"
      ],
      "text/plain": [
       "  Conservation Status  Counts\n",
       "0  Species of Concern     161\n",
       "1          Endangered      16\n",
       "2          Threatened      10\n",
       "3         In Recovery       4"
      ]
     },
     "execution_count": 12,
     "metadata": {},
     "output_type": "execute_result"
    }
   ],
   "source": [
    "# Distribution of conservation_status\n",
    "query = \"\"\"\n",
    "SELECT conservation_status AS `Conservation Status`, COUNT(conservation_status) AS `Counts`\n",
    "FROM species_info\n",
    "GROUP BY 1\n",
    "ORDER BY 2 DESC\n",
    "\"\"\"\n",
    "\n",
    "df2 = pd.read_sql(query, conn2).drop(4)\n",
    "df2"
   ]
  },
  {
   "cell_type": "code",
   "execution_count": 13,
   "metadata": {},
   "outputs": [
    {
     "data": {
      "image/png": "[encoded data removed]",
      "text/plain": [
       "<Figure size 432x288 with 1 Axes>"
      ]
     },
     "metadata": {
      "needs_background": "light"
     },
     "output_type": "display_data"
    }
   ],
   "source": [
    "# Graph distribution of conservation_status\n",
    "plt.bar(df2['Conservation Status'], df2['Counts'], color=['red', 'orange', 'yellow', 'green'])\n",
    "plt.xticks(rotation=20)\n",
    "plt.xlabel('Conservation Status')\n",
    "plt.ylabel('Counts')\n",
    "plt.show()"
   ]
  },
  {
   "cell_type": "code",
   "execution_count": 14,
   "metadata": {},
   "outputs": [],
   "source": [
    "# Checking names of species with certain status\n",
    "def species_status(status):\n",
    "    species_stats = []\n",
    "\n",
    "    for danger in range(len(species)):\n",
    "        if(species['conservation_status'][danger] == status):\n",
    "            species_stats.append(species['common_names'][danger])\n",
    "\n",
    "    return species_stats"
   ]
  },
  {
   "cell_type": "code",
   "execution_count": 15,
   "metadata": {},
   "outputs": [
    {
     "data": {
      "text/plain": [
       "['Gray Wolf',\n",
       " 'Red Wolf',\n",
       " 'Gray Myotis',\n",
       " 'Indiana Bat, Indiana Or Social Myotis',\n",
       " 'Carolina Northern Flying Squirrel, Northern Flying Squirrel',\n",
       " 'Whooping Crane',\n",
       " \"Bachman's Warbler, Bachman's Wood Warbler\",\n",
       " 'Red-Cockaded Woodpecker',\n",
       " 'Duskytail Darter',\n",
       " 'Smoky Madtom',\n",
       " 'Mountain Avens, Spreading Avens',\n",
       " 'June Sucker',\n",
       " 'Sierra Nevada Bighorn Sheep',\n",
       " 'Gray Wolf, Wolf',\n",
       " 'California Condor',\n",
       " 'Sierra Nevada Yellow-Legged Frog']"
      ]
     },
     "execution_count": 15,
     "metadata": {},
     "output_type": "execute_result"
    }
   ],
   "source": [
    "# Endangered species list\n",
    "species_status('Endangered')"
   ]
  },
  {
   "cell_type": "code",
   "execution_count": 16,
   "metadata": {},
   "outputs": [
    {
     "data": {
      "image/png": "[encoded data removed]",
      "text/plain": [
       "<Figure size 432x288 with 1 Axes>"
      ]
     },
     "metadata": {
      "needs_background": "light"
     },
     "output_type": "display_data"
    }
   ],
   "source": [
    "# Visualize which type of species are more likely to be endangered from the endangered list\n",
    "endangered_list = species_status('Endangered')\n",
    "species_type = []\n",
    "\n",
    "for i in range(len(endangered_list)):\n",
    "    for j in range(len(species)):\n",
    "        if(endangered_list[i] == species['common_names'][j]):\n",
    "            species_type.append(species['category'][j])\n",
    "\n",
    "df_endangered = pd.DataFrame(species_type, columns=['type_of_species'])\n",
    "\n",
    "# Establish a new db connection with endangered Data Frame\n",
    "conn3 = sqlite3.connect('df_endangered.db')\n",
    "df_endangered.to_sql('df_endangered', conn3, if_exists=\"replace\", index=False)\n",
    "\n",
    "# Querying\n",
    "q = \"\"\"\n",
    "SELECT type_of_species AS `Type of Species`, COUNT(type_of_species) AS `Counts`\n",
    "FROM df_endangered\n",
    "GROUP BY 1\n",
    "ORDER BY 2 DESC\n",
    "\"\"\"\n",
    "\n",
    "# Data Frame\n",
    "new_df = pd.read_sql(q, conn3)\n",
    "\n",
    "# Graph for visualization\n",
    "plt.bar(new_df['Type of Species'], new_df['Counts'], color=['red', 'orange', 'yellow', 'green', 'blue'])\n",
    "plt.xlabel('Endangered Type of Species')\n",
    "plt.ylabel('Counts')\n",
    "plt.xticks(rotation=30)\n",
    "plt.show()"
   ]
  },
  {
   "cell_type": "code",
   "execution_count": 17,
   "metadata": {},
   "outputs": [
    {
     "data": {
      "text/plain": [
       "['Northern Long-Eared Bat, Northern Myotis',\n",
       " 'Spotfin Chub',\n",
       " 'Yellowfin Madtom',\n",
       " 'Small Whorled Pogonia',\n",
       " 'Virginia Spiraea',\n",
       " 'Grizzly Bear',\n",
       " 'Rainbow Trout',\n",
       " 'Yosemite Toad',\n",
       " 'California Red-Legged Frog',\n",
       " 'Lahontan Cutthroat Trout']"
      ]
     },
     "execution_count": 17,
     "metadata": {},
     "output_type": "execute_result"
    }
   ],
   "source": [
    "# Threatened species list\n",
    "species_status('Threatened')"
   ]
  },
  {
   "cell_type": "code",
   "execution_count": 18,
   "metadata": {},
   "outputs": [
    {
     "data": {
      "text/plain": [
       "['Bald Eagle', 'Gray Wolf, Wolf', 'American Peregrine Falcon', 'Brown Pelican']"
      ]
     },
     "execution_count": 18,
     "metadata": {},
     "output_type": "execute_result"
    }
   ],
   "source": [
    "# In Recovery species list\n",
    "species_status('In Recovery')"
   ]
  },
  {
   "cell_type": "code",
   "execution_count": 19,
   "metadata": {},
   "outputs": [
    {
     "data": {
      "text/plain": [
       "['Coyote',\n",
       " 'Big Brown Bat',\n",
       " 'Silver-Haired Bat',\n",
       " 'Mississippi Myotis, Southeastern Myotis',\n",
       " \"Keen's Myotis\",\n",
       " 'Eastern Small-Footed Bat, Eastern Small-Footed Myotis',\n",
       " 'Little Brown Bat, Little Brown Myotis',\n",
       " \"Cooper's Hawk\",\n",
       " 'Sharp-Shinned Hawk',\n",
       " 'Golden Eagle',\n",
       " 'Red-Shouldered Hawk',\n",
       " 'Northern Harrier',\n",
       " 'American Swallow-Tailed Kite, Swallow-Tailed Kite',\n",
       " 'Turkey Vulture',\n",
       " 'Osprey',\n",
       " 'Lesser Scaup',\n",
       " 'Black Tern',\n",
       " 'Laughing Gull',\n",
       " 'Black-Billed Cuckoo',\n",
       " 'Merlin',\n",
       " 'Peregrine Falcon',\n",
       " 'Common Loon',\n",
       " 'King Rail',\n",
       " 'Blue Grosbeak',\n",
       " 'Summer Tanager',\n",
       " 'Brown Creeper',\n",
       " \"Bachman's Sparrow\",\n",
       " 'Grasshopper Sparrow',\n",
       " \"Lincoln's Sparrow\",\n",
       " 'Red Crossbill',\n",
       " 'Purple Martin',\n",
       " 'Bank Swallow',\n",
       " 'Tree Swallow',\n",
       " 'Loggerhead Shrike',\n",
       " 'Yellow-Breasted Chat',\n",
       " 'Nashville Warbler',\n",
       " \"Wilson's Warbler\",\n",
       " \"Appalachian Bewick's Wren\",\n",
       " 'Olive-Sided Flycatcher',\n",
       " 'Willow Flycatcher',\n",
       " 'Great Blue Heron',\n",
       " 'American Bittern',\n",
       " 'Black-Crowned Night-Heron',\n",
       " 'American White Pelican',\n",
       " 'Pileated Woodpecker',\n",
       " 'Downy Woodpecker',\n",
       " 'Yellow-Bellied Sapsucker',\n",
       " 'Short-Eared Owl',\n",
       " 'Long-Eared Owl',\n",
       " 'Double-Crested Cormorant',\n",
       " 'Northern Pine Snake',\n",
       " 'Queen Snake',\n",
       " 'Eastern Hellbender',\n",
       " 'Pigmy Salamander',\n",
       " 'Flame Chub',\n",
       " 'Blotchside Darter',\n",
       " 'Olive Darter',\n",
       " 'Smooth Bog-Asphodel, Smooth Tofieldia',\n",
       " 'Meadow Alexanders, Three-Leaved Golden Alexanders',\n",
       " 'American Fever-Few, Wild Quinine',\n",
       " \"Rugel's Ragwort\",\n",
       " 'Mountain Watercress, Mountain Bitter Cress',\n",
       " 'Mountain Catchfly, Rough-Leaved Campion',\n",
       " 'Largeleaf Grass Of Parnassus, Large-Leaved Grass-Of-Parnassus',\n",
       " 'Oconee Bells',\n",
       " 'Indian Pipe, Indian-Pipe',\n",
       " 'Sweet Pinesap, Sweet Pine-Sap',\n",
       " 'Hairy Blueberry',\n",
       " \"Fraser's Loosestrife\",\n",
       " 'Butternut, White Walnut',\n",
       " \"Gray's Lily\",\n",
       " 'Dwarf Wakerobin',\n",
       " 'Glade Spurge',\n",
       " 'Fraser Fir',\n",
       " 'Dixie Sedge',\n",
       " \"Cain's Reed-Bent Grass, Cain's Reed-Grass\",\n",
       " 'Tapered Rosette Grass',\n",
       " 'Smoky Mountain Mannagrass',\n",
       " 'Bog Bluegrass',\n",
       " 'Tall Larkspur',\n",
       " 'Piratebush',\n",
       " 'Carolina Saxifrage',\n",
       " 'Carolina Plagiomnium Moss',\n",
       " \"Sharp's Leptohymenium Moss\",\n",
       " 'Bazzania',\n",
       " 'Appalachian Lophocolea',\n",
       " \"Ammon's Screw-Moss\",\n",
       " 'Bighorn Sheep, Bighorn Sheep',\n",
       " 'American Badger, Badger',\n",
       " 'Pallid Bat, Pallid Bat',\n",
       " 'Big Brown Bat, Big Brown Bat',\n",
       " 'Spotted Bat, Spotted Bat',\n",
       " 'Silver-Haired Bat, Silver-Haired Bat',\n",
       " 'California Myotis, California Myotis, Californian Myotis',\n",
       " 'Long-Eared Myotis, Long-Eared Myotis',\n",
       " 'Little Brown Bat, Little Brown Myotis, Little Brown Myotis',\n",
       " 'Fringed Myotis, Fringed Myotis',\n",
       " 'Long-Legged Myotis, Long-Legged Myotis',\n",
       " 'Yuma Myotis, Yuma Myotis',\n",
       " \"Malheur Shrew, Preble's Shrew\",\n",
       " 'Rough-Legged Hawk',\n",
       " 'Osprey, Western Osprey',\n",
       " 'Trumpeter Swan',\n",
       " \"Vaux's Swift\",\n",
       " 'Rufous Hummingbird',\n",
       " 'Calliope Hummingbird',\n",
       " 'Common Tern',\n",
       " 'Upland Sandpiper',\n",
       " 'Marbled Godwit',\n",
       " 'Band-Tailed Pigeon',\n",
       " 'Prairie Falcon',\n",
       " 'Common Loon, Great Northern Diver, Great Northern Loon',\n",
       " 'Yellow Rail',\n",
       " \"Mccown's Longspur\",\n",
       " 'Pinyon Jay',\n",
       " 'Green-Tailed Towhee',\n",
       " \"Brewer's Sparrow\",\n",
       " 'Bank Swallow, Sand Martin',\n",
       " 'Sage Thrasher',\n",
       " 'Phainopepla',\n",
       " 'Western Bluebird',\n",
       " 'White-Faced Ibis',\n",
       " \"Williamson's Sapsucker\",\n",
       " 'Western Grebe',\n",
       " 'Northern Sagebrush Lizard',\n",
       " 'Columbia Spotted Frog',\n",
       " 'Mottled Sculpin',\n",
       " 'Nodding Waternymph, Slender Naiad, Wavy Waternymph',\n",
       " 'Common Waterparsnip, Hemlock Waterparsnip, Hemlock Water-Parsnip',\n",
       " 'Rocky Mountain Iris, Western Blue Flag, Wild Iris, Wildiris',\n",
       " 'Wyoming Sand Verbena, Yellowstone Sand Verbena',\n",
       " 'Sulphur Indian Paintbrush',\n",
       " 'Stalk-Leaved Monkey-Flower',\n",
       " 'Contracted Ricegrass',\n",
       " 'Badger',\n",
       " 'Ringtail',\n",
       " 'Western Red Bat',\n",
       " 'California Myotis',\n",
       " 'Little Brown Myotis',\n",
       " 'Sierra Nevada Snowshoe Hare',\n",
       " 'Brush Rabbit',\n",
       " 'Sierra Nevada Mountain Beaver',\n",
       " 'White-Tailed Kite',\n",
       " 'Black Swift',\n",
       " 'Yellow-Billed Magpie',\n",
       " 'Vermilion Flycatcher',\n",
       " 'Black-Crowned Night Heron',\n",
       " 'Ringneck Snake, Ring-Necked Snake',\n",
       " 'California Kingsnake',\n",
       " 'Mount Lyell Salamander',\n",
       " \"Congdon's Lomatium, Mariposa Desertparsley\",\n",
       " 'Threebract Onion',\n",
       " 'Yosemite Woolly Sunflower',\n",
       " \"Torrey's Popcornflower\",\n",
       " 'Parasol Clover',\n",
       " 'Hetch Hetchy Monkey-Flower, Slenderstem Monkeyflower',\n",
       " 'Winged Water-Starwort',\n",
       " 'Mono Hot Springs Evening Primrose, Mono Hot Springs Evening-Primrose',\n",
       " 'Grants Pass Willowherb, Oregon Fireweed',\n",
       " 'Trianglelobe Moonwort, Upswept Moonwort',\n",
       " \"Coulter's Matilija Poppy\"]"
      ]
     },
     "execution_count": 19,
     "metadata": {},
     "output_type": "execute_result"
    }
   ],
   "source": [
    "# Species of Concern list\n",
    "species_status('Species of Concern')"
   ]
  },
  {
   "cell_type": "code",
   "execution_count": 20,
   "metadata": {},
   "outputs": [
    {
     "data": {
      "text/html": [
       "<div>\n",
       "<style scoped>\n",
       "    .dataframe tbody tr th:only-of-type {\n",
       "        vertical-align: middle;\n",
       "    }\n",
       "\n",
       "    .dataframe tbody tr th {\n",
       "        vertical-align: top;\n",
       "    }\n",
       "\n",
       "    .dataframe thead th {\n",
       "        text-align: right;\n",
       "    }\n",
       "</style>\n",
       "<table border=\"1\" class=\"dataframe\">\n",
       "  <thead>\n",
       "    <tr style=\"text-align: right;\">\n",
       "      <th>Category</th>\n",
       "      <th>Amphibian</th>\n",
       "      <th>Bird</th>\n",
       "      <th>Fish</th>\n",
       "      <th>Mammal</th>\n",
       "      <th>Nonvascular Plant</th>\n",
       "      <th>Reptile</th>\n",
       "      <th>Vascular Plant</th>\n",
       "    </tr>\n",
       "    <tr>\n",
       "      <th>Conservation Status</th>\n",
       "      <th></th>\n",
       "      <th></th>\n",
       "      <th></th>\n",
       "      <th></th>\n",
       "      <th></th>\n",
       "      <th></th>\n",
       "      <th></th>\n",
       "    </tr>\n",
       "  </thead>\n",
       "  <tbody>\n",
       "    <tr>\n",
       "      <th>Endangered</th>\n",
       "      <td>1.0</td>\n",
       "      <td>4.0</td>\n",
       "      <td>3.0</td>\n",
       "      <td>7.0</td>\n",
       "      <td>NaN</td>\n",
       "      <td>NaN</td>\n",
       "      <td>1.0</td>\n",
       "    </tr>\n",
       "    <tr>\n",
       "      <th>In Recovery</th>\n",
       "      <td>NaN</td>\n",
       "      <td>3.0</td>\n",
       "      <td>NaN</td>\n",
       "      <td>1.0</td>\n",
       "      <td>NaN</td>\n",
       "      <td>NaN</td>\n",
       "      <td>NaN</td>\n",
       "    </tr>\n",
       "    <tr>\n",
       "      <th>Species of Concern</th>\n",
       "      <td>4.0</td>\n",
       "      <td>72.0</td>\n",
       "      <td>4.0</td>\n",
       "      <td>28.0</td>\n",
       "      <td>5.0</td>\n",
       "      <td>5.0</td>\n",
       "      <td>43.0</td>\n",
       "    </tr>\n",
       "    <tr>\n",
       "      <th>Threatened</th>\n",
       "      <td>2.0</td>\n",
       "      <td>NaN</td>\n",
       "      <td>4.0</td>\n",
       "      <td>2.0</td>\n",
       "      <td>NaN</td>\n",
       "      <td>NaN</td>\n",
       "      <td>2.0</td>\n",
       "    </tr>\n",
       "  </tbody>\n",
       "</table>\n",
       "</div>"
      ],
      "text/plain": [
       "Category             Amphibian  Bird  Fish  Mammal  Nonvascular Plant  \\\n",
       "Conservation Status                                                     \n",
       "Endangered                 1.0   4.0   3.0     7.0                NaN   \n",
       "In Recovery                NaN   3.0   NaN     1.0                NaN   \n",
       "Species of Concern         4.0  72.0   4.0    28.0                5.0   \n",
       "Threatened                 2.0   NaN   4.0     2.0                NaN   \n",
       "\n",
       "Category             Reptile  Vascular Plant  \n",
       "Conservation Status                           \n",
       "Endangered               NaN             1.0  \n",
       "In Recovery              NaN             NaN  \n",
       "Species of Concern       5.0            43.0  \n",
       "Threatened               NaN             2.0  "
      ]
     },
     "execution_count": 20,
     "metadata": {},
     "output_type": "execute_result"
    }
   ],
   "source": [
    "# Each category's conservation status distribution\n",
    "query = \"\"\"\n",
    "SELECT conservation_status AS `Conservation Status`, category AS `Category`, COUNT(category) AS `Counts`\n",
    "FROM species_info\n",
    "WHERE conservation_status != 'None'\n",
    "GROUP BY 2, 1\n",
    "ORDER BY 2 DESC\n",
    "\"\"\"\n",
    "\n",
    "df3 = pd.read_sql(query, conn2)\n",
    "\n",
    "# Pivoting the table\n",
    "updated_df3 = df3.pivot(index='Conservation Status', columns='Category', values='Counts')\n",
    "updated_df3"
   ]
  },
  {
   "cell_type": "code",
   "execution_count": 21,
   "metadata": {},
   "outputs": [
    {
     "data": {
      "text/plain": [
       "Text(0, 0.5, 'Counts')"
      ]
     },
     "execution_count": 21,
     "metadata": {},
     "output_type": "execute_result"
    },
    {
     "data": {
      "image/png": "[encoded data removed]",
      "text/plain": [
       "<Figure size 432x288 with 1 Axes>"
      ]
     },
     "metadata": {
      "needs_background": "light"
     },
     "output_type": "display_data"
    }
   ],
   "source": [
    "# Visualization of each category's conservation status\n",
    "ax = updated_df3.plot(kind=\"bar\", stacked=True)\n",
    "ax.set_xlabel(\"Conservation Status\", fontsize=14)\n",
    "ax.set_ylabel(\"Counts\", fontsize=14)"
   ]
  },
  {
   "cell_type": "code",
   "execution_count": 22,
   "metadata": {},
   "outputs": [],
   "source": [
    "def distinct_park():\n",
    "    park = []\n",
    "    \n",
    "    for i in observations['park_name']:\n",
    "        if(i not in park):\n",
    "            park.append(i)\n",
    "    \n",
    "    return park"
   ]
  },
  {
   "cell_type": "code",
   "execution_count": 23,
   "metadata": {},
   "outputs": [
    {
     "data": {
      "text/plain": [
       "['Great Smoky Mountains National Park',\n",
       " 'Yosemite National Park',\n",
       " 'Bryce National Park',\n",
       " 'Yellowstone National Park']"
      ]
     },
     "execution_count": 23,
     "metadata": {},
     "output_type": "execute_result"
    }
   ],
   "source": [
    "# Name of the park presented in the data\n",
    "distinct_park()"
   ]
  },
  {
   "cell_type": "code",
   "execution_count": 24,
   "metadata": {},
   "outputs": [
    {
     "data": {
      "text/html": [
       "<div>\n",
       "<style scoped>\n",
       "    .dataframe tbody tr th:only-of-type {\n",
       "        vertical-align: middle;\n",
       "    }\n",
       "\n",
       "    .dataframe tbody tr th {\n",
       "        vertical-align: top;\n",
       "    }\n",
       "\n",
       "    .dataframe thead th {\n",
       "        text-align: right;\n",
       "    }\n",
       "</style>\n",
       "<table border=\"1\" class=\"dataframe\">\n",
       "  <thead>\n",
       "    <tr style=\"text-align: right;\">\n",
       "      <th></th>\n",
       "      <th>Park Name</th>\n",
       "      <th>Scientific Name</th>\n",
       "      <th>Observations</th>\n",
       "    </tr>\n",
       "  </thead>\n",
       "  <tbody>\n",
       "    <tr>\n",
       "      <th>0</th>\n",
       "      <td>Bryce National Park</td>\n",
       "      <td>Valerianella radiata</td>\n",
       "      <td>176</td>\n",
       "    </tr>\n",
       "    <tr>\n",
       "      <th>1</th>\n",
       "      <td>Great Smoky Mountains National Park</td>\n",
       "      <td>Sonchus asper ssp. asper</td>\n",
       "      <td>147</td>\n",
       "    </tr>\n",
       "    <tr>\n",
       "      <th>2</th>\n",
       "      <td>Yellowstone National Park</td>\n",
       "      <td>Lycopodium tristachyum</td>\n",
       "      <td>321</td>\n",
       "    </tr>\n",
       "    <tr>\n",
       "      <th>3</th>\n",
       "      <td>Yosemite National Park</td>\n",
       "      <td>Ivesia shockleyi var. shockleyi</td>\n",
       "      <td>223</td>\n",
       "    </tr>\n",
       "  </tbody>\n",
       "</table>\n",
       "</div>"
      ],
      "text/plain": [
       "                             Park Name                  Scientific Name  \\\n",
       "0                  Bryce National Park             Valerianella radiata   \n",
       "1  Great Smoky Mountains National Park         Sonchus asper ssp. asper   \n",
       "2            Yellowstone National Park           Lycopodium tristachyum   \n",
       "3               Yosemite National Park  Ivesia shockleyi var. shockleyi   \n",
       "\n",
       "   Observations  \n",
       "0           176  \n",
       "1           147  \n",
       "2           321  \n",
       "3           223  "
      ]
     },
     "execution_count": 24,
     "metadata": {},
     "output_type": "execute_result"
    }
   ],
   "source": [
    "# Species spotted the most at each national park\n",
    "query = \"\"\"\n",
    "SELECT park_name as `Park Name`, scientific_name AS `Scientific Name`, MAX(observations) AS `Observations`\n",
    "FROM observations\n",
    "GROUP BY 1\n",
    "\"\"\"\n",
    "\n",
    "df4 = pd.read_sql(query, conn1)\n",
    "df4"
   ]
  },
  {
   "cell_type": "code",
   "execution_count": 25,
   "metadata": {},
   "outputs": [
    {
     "data": {
      "text/plain": [
       "[('Beaked Corn-Salad, Corn Salad', 'Vascular Plant'),\n",
       " ('Spiny Sowthistle', 'Vascular Plant'),\n",
       " ('Deep-Root Clubmoss, Ground Cedar', 'Vascular Plant'),\n",
       " (\"Shockley's Ivesia, Sky Mousetail\", 'Vascular Plant')]"
      ]
     },
     "execution_count": 25,
     "metadata": {},
     "output_type": "execute_result"
    }
   ],
   "source": [
    "# Common names of the most spotted species in the national park\n",
    "names = list(df4['Scientific Name']) \n",
    "common_names = []\n",
    "category = []\n",
    "\n",
    "for i in names:\n",
    "    for j in range(len(species)):\n",
    "        if(i == species['scientific_name'][j]):\n",
    "            common_names.append(species['common_names'][j])\n",
    "            category.append(species['category'][j])\n",
    "\n",
    "list(zip(common_names, category))"
   ]
  },
  {
   "cell_type": "markdown",
   "metadata": {},
   "source": [
    "### Summary of the data"
   ]
  },
  {
   "cell_type": "markdown",
   "metadata": {},
   "source": [
    "From the analysis and visualization, I could tell that there are seven type/categories of species presented in the data. Five of those being types of animals (Mammal, Bird, Reptile, Amphibian, and Fish) and two of those being types of plants (Vascular Plant and Nonvascular Plant). According to the data, the most type/category of species presented in the data is Vascular Plant, followed by Bird, Nonvascular Plant, Mammal, Fish, Amphibian, and Reptile. There are also four types of conservation status represented in the data (Species of Concern, Endangered, Threatened, and In Recover). As an addition, I have analyzed and listed the common names of animals and plants whom are in a specific conservation status (refer to kernel input 15, 17, 18, and 19). More importantly 'Mammal' type of species are more likely to be endangered in the current situation. As for the National Park presented in the data, there are a total of four National Park which are Great Smoky Mountains National Park, Yosemit National Park, Bryce National Park, and Yellow Stone National Park), and the most spotted species from each for of these National Parks are Vascular Plant as predicted since the most types/category of species presented in the data are from Vascular Plant category."
   ]
  }
 ],
 "metadata": {
  "kernelspec": {
   "display_name": "Python 3",
   "language": "python",
   "name": "python3"
  },
  "language_info": {
   "codemirror_mode": {
    "name": "ipython",
    "version": 3
   },
   "file_extension": ".py",
   "mimetype": "text/x-python",
   "name": "python",
   "nbconvert_exporter": "python",
   "pygments_lexer": "ipython3",
   "version": "3.8.5"
  }
 },
 "nbformat": 4,
 "nbformat_minor": 4
}
